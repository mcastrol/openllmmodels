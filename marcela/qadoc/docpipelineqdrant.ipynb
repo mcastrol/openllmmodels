{
 "cells": [
  {
   "cell_type": "markdown",
   "metadata": {},
   "source": [
    "#load \n",
    "\n",
    "\n",
    "\n",
    "#check alternative\n",
    "https://github.com/langchain-ai/langchain/blob/master/cookbook/Semi_Structured_RAG.ipynb"
   ]
  },
  {
   "cell_type": "code",
   "execution_count": 1,
   "metadata": {},
   "outputs": [],
   "source": [
    "import os\n",
    "\n",
    "api_key=os.getenv(\"OPENAI_API_KEY\")"
   ]
  },
  {
   "cell_type": "code",
   "execution_count": 2,
   "metadata": {},
   "outputs": [],
   "source": [
    "from langchain_community.document_loaders import DirectoryLoader"
   ]
  },
  {
   "cell_type": "code",
   "execution_count": 30,
   "metadata": {},
   "outputs": [],
   "source": [
    "docs_dir=\"data/\"\n",
    "chunk_size=5000\n",
    "chunk_overlap=100\n",
    "file_extension=\"pdf\"\n",
    "docs_glob: str = f\"**/*.{file_extension}\"\n",
    "qdrant_url=\"http://localhost:6333/\"\n",
    "embedding_model=\"text-embedding-ada-002\"\n",
    "qdrant_collection=\"recetas\"\n"
   ]
  },
  {
   "cell_type": "markdown",
   "metadata": {},
   "source": [
    "#Load all the data of a directory\n",
    "Under the hood, by default this uses the UnstructuredLoader.\n",
    "Ref. https://python.langchain.com/docs/modules/data_connection/document_loaders/file_directory/\n"
   ]
  },
  {
   "cell_type": "code",
   "execution_count": 4,
   "metadata": {},
   "outputs": [
    {
     "name": "stderr",
     "output_type": "stream",
     "text": [
      "This function will be deprecated in a future release and `unstructured` will simply use the DEFAULT_MODEL from `unstructured_inference.model.base` to set default model name\n",
      "Some weights of the model checkpoint at microsoft/table-transformer-structure-recognition were not used when initializing TableTransformerForObjectDetection: ['model.backbone.conv_encoder.model.layer2.0.downsample.1.num_batches_tracked', 'model.backbone.conv_encoder.model.layer3.0.downsample.1.num_batches_tracked', 'model.backbone.conv_encoder.model.layer4.0.downsample.1.num_batches_tracked']\n",
      "- This IS expected if you are initializing TableTransformerForObjectDetection from the checkpoint of a model trained on another task or with another architecture (e.g. initializing a BertForSequenceClassification model from a BertForPreTraining model).\n",
      "- This IS NOT expected if you are initializing TableTransformerForObjectDetection from the checkpoint of a model that you expect to be exactly identical (initializing a BertForSequenceClassification model from a BertForSequenceClassification model).\n"
     ]
    },
    {
     "data": {
      "text/plain": [
       "1"
      ]
     },
     "execution_count": 4,
     "metadata": {},
     "output_type": "execute_result"
    }
   ],
   "source": [
    "loader = DirectoryLoader(docs_dir, docs_glob, show_progress=True)\n",
    "docs = loader.load()\n",
    "len(docs)\n"
   ]
  },
  {
   "cell_type": "code",
   "execution_count": 12,
   "metadata": {},
   "outputs": [],
   "source": [
    "from langchain_text_splitters import CharacterTextSplitter\n",
    "\n",
    "text_splitter = CharacterTextSplitter(\n",
    "    separator=\"\\n\\n\",\n",
    "    chunk_size=chunk_size,\n",
    "    chunk_overlap=chunk_overlap,\n",
    "    length_function=len,\n",
    "    is_separator_regex=False,\n",
    ")\n",
    "\n",
    "data=text_splitter.split_documents(docs)"
   ]
  },
  {
   "cell_type": "code",
   "execution_count": 13,
   "metadata": {},
   "outputs": [
    {
     "data": {
      "text/plain": [
       "68"
      ]
     },
     "execution_count": 13,
     "metadata": {},
     "output_type": "execute_result"
    }
   ],
   "source": [
    "len(data)"
   ]
  },
  {
   "cell_type": "code",
   "execution_count": 16,
   "metadata": {},
   "outputs": [],
   "source": [
    "from langchain_openai import OpenAIEmbeddings\n",
    "embeddings = OpenAIEmbeddings(\n",
    "            openai_api_key=api_key\n",
    "        )\n"
   ]
  },
  {
   "cell_type": "code",
   "execution_count": 31,
   "metadata": {},
   "outputs": [
    {
     "name": "stderr",
     "output_type": "stream",
     "text": [
      "/home/mcastrol/github/openllmmodels/.venv/lib/python3.11/site-packages/qdrant_client/qdrant_remote.py:123: UserWarning: Api key is used with unsecure connection.\n",
      "  warnings.warn(\"Api key is used with unsecure connection.\")\n",
      "/home/mcastrol/github/openllmmodels/.venv/lib/python3.11/site-packages/qdrant_client/async_qdrant_remote.py:112: UserWarning: Api key is used with unsecure connection.\n",
      "  warnings.warn(\"Api key is used with unsecure connection.\")\n"
     ]
    },
    {
     "data": {
      "text/plain": [
       "<langchain_community.vectorstores.qdrant.Qdrant at 0x7fa9017342d0>"
      ]
     },
     "execution_count": 31,
     "metadata": {},
     "output_type": "execute_result"
    }
   ],
   "source": [
    "from langchain_community.vectorstores import Qdrant\n",
    "Qdrant.from_documents(\n",
    "    data,\n",
    "    embeddings,\n",
    "    url=\"http://localhost:6333/\",\n",
    "    api_key=\"\",\n",
    "    port=None,\n",
    "    collection_name=qdrant_collection\n",
    ")"
   ]
  },
  {
   "cell_type": "markdown",
   "metadata": {},
   "source": [
    "#ask some questions\n",
    "    "
   ]
  },
  {
   "cell_type": "code",
   "execution_count": 19,
   "metadata": {},
   "outputs": [],
   "source": [
    "questions=[\n",
    "    \"Como se hace el pan de platano\",\n",
    "    \"Como se hace el cereal de semillas nutritivas\",\n",
    "]"
   ]
  },
  {
   "cell_type": "code",
   "execution_count": 28,
   "metadata": {},
   "outputs": [],
   "source": [
    "encoded_query = embeddings.embed_query(questions[0])"
   ]
  },
  {
   "cell_type": "code",
   "execution_count": 33,
   "metadata": {},
   "outputs": [
    {
     "name": "stderr",
     "output_type": "stream",
     "text": [
      "/home/mcastrol/github/openllmmodels/.venv/lib/python3.11/site-packages/qdrant_client/qdrant_remote.py:123: UserWarning: Api key is used with unsecure connection.\n",
      "  warnings.warn(\"Api key is used with unsecure connection.\")\n"
     ]
    }
   ],
   "source": [
    "from qdrant_client import QdrantClient\n",
    "\n",
    "\n",
    "qdrant_client = QdrantClient(url=qdrant_url,\n",
    "                             api_key=\"\")\n",
    "\n",
    "result = qdrant_client.search(\n",
    "        collection_name=qdrant_collection,\n",
    "        query_vector=encoded_query,\n",
    "        limit=2, score_threshold=0.50\n",
    "    )"
   ]
  },
  {
   "cell_type": "code",
   "execution_count": 34,
   "metadata": {},
   "outputs": [
    {
     "data": {
      "text/plain": [
       "[ScoredPoint(id='2d60d298-7b4e-49c2-bccf-44548829c65c', version=0, score=0.8781653, payload={'metadata': {'source': 'data/Recetario+Nutre+tu+Cuerpo.pdf'}, 'page_content': '3. Extender la mezcla en un molde para hornear hasta que se distribuya bien, presionar con una cuchara.\\n\\n2 platanos maduros.\\n\\n4 cucharadas de manteauilla de almenara.\\n\\nYa de taza de cacao en polvo sin azucar.\\n\\n4 cucharadas de miel.\\n\\n4. Mezclar pldtanos, mantequilla de almendra, miel y el otro taza de cacao en polvo en el procesador.\\n\\n5, Extender esta mezcla sobre la capa inferior hasta distriouirla bien.\\n\\n6. Colocar en el congelador 30 minutos Cortar 16 cuadros y re-congelar.\\n\\nSushi de platano con crema de almendra\\n\\nINGREDIENTES\\n\\n% sirve a tu eleccién\\n\\n* 1 platano.\\n\\n+ 2 cucharadas de crema de almendra o de cualquier otra nuez.\\n\\n* 2 cucharadas de semillas de hemp.\\n\\nPREPARACION\\n\\n].Pela el pldtano y unta la crema de almendra en la mitad superior del pldtano.\\n\\n2. Espolvorea las semillas de hemp y rebanalo en rodajas.\\n\\n3. i Disfruitalo |\\n\\na ten TH\\n\\n144\\n\\nPREPARACION\\n\\nPan de pldtano\\n\\nPosteado por “Paleodietguru”\\n\\n1. Aplanar los platanos en un recipiente.\\n\\n2. ANadir la crema de almenadra, la harina, los huevos, ymezclar bien.\\n\\nINGREDIENTES\\n\\n% sirve a tu eleccién\\n\\n* 3 platanos.\\n\\n3. Anadir el polvo para hornear y el bicarbonato.\\n\\n* 1 taza de harina de coco o harina de almendra.\\n\\n* 1] taza de crema de almendra.\\n\\n* 2 huevos,\\n\\n1 cucharadita de bicarbonato de sodio.\\n\\n* 1 cucharadita de polvo para hornear.\\n\\n5, Precalentar elhorno a 175°C.'}, vector=None, shard_key=None),\n",
       " ScoredPoint(id='84016d48-1487-40c8-85f4-3cbb3bc93060', version=2, score=0.8781653, payload={'metadata': {'source': 'data/Recetario+Nutre+tu+Cuerpo.pdf'}, 'page_content': '3. Extender la mezcla en un molde para hornear hasta que se distribuya bien, presionar con una cuchara.\\n\\n2 platanos maduros.\\n\\n4 cucharadas de manteauilla de almenara.\\n\\nYa de taza de cacao en polvo sin azucar.\\n\\n4 cucharadas de miel.\\n\\n4. Mezclar pldtanos, mantequilla de almendra, miel y el otro taza de cacao en polvo en el procesador.\\n\\n5, Extender esta mezcla sobre la capa inferior hasta distriouirla bien.\\n\\n6. Colocar en el congelador 30 minutos Cortar 16 cuadros y re-congelar.\\n\\nSushi de platano con crema de almendra\\n\\nINGREDIENTES\\n\\n% sirve a tu eleccién\\n\\n* 1 platano.\\n\\n+ 2 cucharadas de crema de almendra o de cualquier otra nuez.\\n\\n* 2 cucharadas de semillas de hemp.\\n\\nPREPARACION\\n\\n].Pela el pldtano y unta la crema de almendra en la mitad superior del pldtano.\\n\\n2. Espolvorea las semillas de hemp y rebanalo en rodajas.\\n\\n3. i Disfruitalo |\\n\\na ten TH\\n\\n144\\n\\nPREPARACION\\n\\nPan de pldtano\\n\\nPosteado por “Paleodietguru”\\n\\n1. Aplanar los platanos en un recipiente.\\n\\n2. ANadir la crema de almenadra, la harina, los huevos, ymezclar bien.\\n\\nINGREDIENTES\\n\\n% sirve a tu eleccién\\n\\n* 3 platanos.\\n\\n3. Anadir el polvo para hornear y el bicarbonato.\\n\\n* 1 taza de harina de coco o harina de almendra.\\n\\n* 1] taza de crema de almendra.\\n\\n* 2 huevos,\\n\\n1 cucharadita de bicarbonato de sodio.\\n\\n* 1 cucharadita de polvo para hornear.\\n\\n5, Precalentar elhorno a 175°C.'}, vector=None, shard_key=None)]"
      ]
     },
     "execution_count": 34,
     "metadata": {},
     "output_type": "execute_result"
    }
   ],
   "source": [
    "result"
   ]
  }
 ],
 "metadata": {
  "kernelspec": {
   "display_name": ".venv",
   "language": "python",
   "name": "python3"
  },
  "language_info": {
   "codemirror_mode": {
    "name": "ipython",
    "version": 3
   },
   "file_extension": ".py",
   "mimetype": "text/x-python",
   "name": "python",
   "nbconvert_exporter": "python",
   "pygments_lexer": "ipython3",
   "version": "3.11.8"
  }
 },
 "nbformat": 4,
 "nbformat_minor": 2
}
