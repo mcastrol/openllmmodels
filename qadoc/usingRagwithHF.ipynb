{
 "cells": [
  {
   "cell_type": "markdown",
   "metadata": {},
   "source": [
    "Originally from \n",
    "Pere Martre course.\n"
   ]
  },
  {
   "cell_type": "markdown",
   "metadata": {},
   "source": [
    "# Import and load the libraries.\n",
    "To start we need to install the necesary Python packages.\n",
    "* **[sentence transformers](http:/www.sbert.net/)**. This library is necessary to transform the sentences into fixed-length vectors, also know as embeddings.\n",
    "* **[xformers](https://github.com/facebookresearch/xformers)**. it's a package that provides libraries an utilities to facilitate the work with transformers models. We need to install in order to avoid an error when we work with the model and embeddings.  \n",
    "* **[chromadb](https://www.trychroma.com/)**. This is our vector Database. ChromaDB is easy to use and open source, maybe the most used Vector Database used to store embeddings."
   ]
  },
  {
   "cell_type": "code",
   "execution_count": 1,
   "metadata": {},
   "outputs": [],
   "source": [
    "import numpy as np\n",
    "import pandas as pd"
   ]
  },
  {
   "cell_type": "code",
   "execution_count": 15,
   "metadata": {},
   "outputs": [],
   "source": [
    "docs_dir=\"data\"\n",
    "file_name=\"labelled_newscatcher_dataset.csv\"\n",
    "MAX_NEWS = 1000\n",
    "DOCUMENT=\"title\"\n",
    "TOPIC=\"topic\"\n",
    "collection_name = \"news_collection\"\n",
    "chroma_storage=\"../chroma_storage/data\"\n"
   ]
  },
  {
   "cell_type": "code",
   "execution_count": 6,
   "metadata": {},
   "outputs": [],
   "source": [
    "news = pd.read_csv(f\"{docs_dir}/{file_name}\", sep=';')"
   ]
  },
  {
   "cell_type": "code",
   "execution_count": 10,
   "metadata": {},
   "outputs": [
    {
     "data": {
      "text/html": [
       "<div>\n",
       "<style scoped>\n",
       "    .dataframe tbody tr th:only-of-type {\n",
       "        vertical-align: middle;\n",
       "    }\n",
       "\n",
       "    .dataframe tbody tr th {\n",
       "        vertical-align: top;\n",
       "    }\n",
       "\n",
       "    .dataframe thead th {\n",
       "        text-align: right;\n",
       "    }\n",
       "</style>\n",
       "<table border=\"1\" class=\"dataframe\">\n",
       "  <thead>\n",
       "    <tr style=\"text-align: right;\">\n",
       "      <th></th>\n",
       "      <th>topic</th>\n",
       "      <th>link</th>\n",
       "      <th>domain</th>\n",
       "      <th>published_date</th>\n",
       "      <th>title</th>\n",
       "      <th>lang</th>\n",
       "      <th>id</th>\n",
       "    </tr>\n",
       "  </thead>\n",
       "  <tbody>\n",
       "    <tr>\n",
       "      <th>0</th>\n",
       "      <td>SCIENCE</td>\n",
       "      <td>https://www.eurekalert.org/pub_releases/2020-0...</td>\n",
       "      <td>eurekalert.org</td>\n",
       "      <td>2020-08-06 13:59:45</td>\n",
       "      <td>A closer look at water-splitting's solar fuel ...</td>\n",
       "      <td>en</td>\n",
       "      <td>0</td>\n",
       "    </tr>\n",
       "    <tr>\n",
       "      <th>1</th>\n",
       "      <td>SCIENCE</td>\n",
       "      <td>https://www.pulse.ng/news/world/an-irresistibl...</td>\n",
       "      <td>pulse.ng</td>\n",
       "      <td>2020-08-12 15:14:19</td>\n",
       "      <td>An irresistible scent makes locusts swarm, stu...</td>\n",
       "      <td>en</td>\n",
       "      <td>1</td>\n",
       "    </tr>\n",
       "    <tr>\n",
       "      <th>2</th>\n",
       "      <td>SCIENCE</td>\n",
       "      <td>https://www.express.co.uk/news/science/1322607...</td>\n",
       "      <td>express.co.uk</td>\n",
       "      <td>2020-08-13 21:01:00</td>\n",
       "      <td>Artificial intelligence warning: AI will know ...</td>\n",
       "      <td>en</td>\n",
       "      <td>2</td>\n",
       "    </tr>\n",
       "    <tr>\n",
       "      <th>3</th>\n",
       "      <td>SCIENCE</td>\n",
       "      <td>https://www.ndtv.com/world-news/glaciers-could...</td>\n",
       "      <td>ndtv.com</td>\n",
       "      <td>2020-08-03 22:18:26</td>\n",
       "      <td>Glaciers Could Have Sculpted Mars Valleys: Study</td>\n",
       "      <td>en</td>\n",
       "      <td>3</td>\n",
       "    </tr>\n",
       "    <tr>\n",
       "      <th>4</th>\n",
       "      <td>SCIENCE</td>\n",
       "      <td>https://www.thesun.ie/tech/5742187/perseid-met...</td>\n",
       "      <td>thesun.ie</td>\n",
       "      <td>2020-08-12 19:54:36</td>\n",
       "      <td>Perseid meteor shower 2020: What time and how ...</td>\n",
       "      <td>en</td>\n",
       "      <td>4</td>\n",
       "    </tr>\n",
       "  </tbody>\n",
       "</table>\n",
       "</div>"
      ],
      "text/plain": [
       "     topic                                               link          domain  \\\n",
       "0  SCIENCE  https://www.eurekalert.org/pub_releases/2020-0...  eurekalert.org   \n",
       "1  SCIENCE  https://www.pulse.ng/news/world/an-irresistibl...        pulse.ng   \n",
       "2  SCIENCE  https://www.express.co.uk/news/science/1322607...   express.co.uk   \n",
       "3  SCIENCE  https://www.ndtv.com/world-news/glaciers-could...        ndtv.com   \n",
       "4  SCIENCE  https://www.thesun.ie/tech/5742187/perseid-met...       thesun.ie   \n",
       "\n",
       "        published_date                                              title  \\\n",
       "0  2020-08-06 13:59:45  A closer look at water-splitting's solar fuel ...   \n",
       "1  2020-08-12 15:14:19  An irresistible scent makes locusts swarm, stu...   \n",
       "2  2020-08-13 21:01:00  Artificial intelligence warning: AI will know ...   \n",
       "3  2020-08-03 22:18:26   Glaciers Could Have Sculpted Mars Valleys: Study   \n",
       "4  2020-08-12 19:54:36  Perseid meteor shower 2020: What time and how ...   \n",
       "\n",
       "  lang  id  \n",
       "0   en   0  \n",
       "1   en   1  \n",
       "2   en   2  \n",
       "3   en   3  \n",
       "4   en   4  "
      ]
     },
     "execution_count": 10,
     "metadata": {},
     "output_type": "execute_result"
    }
   ],
   "source": [
    "news[\"id\"] = news.index\n",
    "news.head()"
   ]
  },
  {
   "cell_type": "code",
   "execution_count": 11,
   "metadata": {},
   "outputs": [],
   "source": [
    "subset_news = news.head(MAX_NEWS)"
   ]
  },
  {
   "cell_type": "markdown",
   "metadata": {},
   "source": [
    "# Import and configure the Vector Database\n",
    "I'm going to use ChromaDB, the most popular OpenSource embedding Database.\n",
    "\n",
    "First we need to import ChromaDB, and after that import the **Settings** class from **chromadb.config** module. This class allows us to change the setting for the ChromaDB system, and customize its behavior."
   ]
  },
  {
   "cell_type": "code",
   "execution_count": 12,
   "metadata": {},
   "outputs": [],
   "source": [
    "import chromadb\n",
    "from chromadb.config import Settings"
   ]
  },
  {
   "cell_type": "markdown",
   "metadata": {},
   "source": [
    "Now we need to create the seetings object calling the **Settings** function imported previously. We store the object in the variable **settings_chroma**.\n",
    "\n",
    "Is necessary to inform two parameters\n",
    "* chroma_db_impl. Here we specify the database implementation and the format how store the data. I choose ***duckdb***, because his high-performace. It operate primarly in memory. And is fully compatible with SQL. The store format ***parquet*** is good for tabular data. With good compression rates and performance.\n",
    "\n",
    "* persist_directory: It just contains the directory where the data will be stored. Is possible work without a directory and the data will be stored in memory without persistece, but Kaggle dosn't support that."
   ]
  },
  {
   "cell_type": "code",
   "execution_count": 16,
   "metadata": {},
   "outputs": [],
   "source": [
    "chroma_client = chromadb.PersistentClient(path=chroma_storage)"
   ]
  },
  {
   "cell_type": "markdown",
   "metadata": {},
   "source": [
    "# Filling and Querying the ChromaDB Database\n",
    "The Data in ChromaDB is stored in collections. If the collection exist we need to delete it.\n",
    "\n",
    "In the next lines, we are creating the collection by calling the ***create_collection*** function in the ***chroma_client*** created above."
   ]
  },
  {
   "cell_type": "code",
   "execution_count": 19,
   "metadata": {},
   "outputs": [],
   "source": [
    "if len(chroma_client.list_collections()) > 0 and collection_name in [chroma_client.list_collections()[0].name]:\n",
    "        chroma_client.delete_collection(name=collection_name)\n",
    "\n",
    "collection = chroma_client.create_collection(name=collection_name)"
   ]
  },
  {
   "cell_type": "markdown",
   "metadata": {},
   "source": [
    "It's time to add the data to the collection. Using the function ***add*** we need to inform, at least ***documents***, ***metadatas*** and ***ids***.\n",
    "* In the **document** we store the big text, it's a different column in each Dataset.\n",
    "* In **metadatas**, we can informa a list of topics.\n",
    "* In **id** we need to inform an unique identificator for each row. It MUST be unique! I'm creating the ID using the range of MAX_NEWS."
   ]
  },
  {
   "cell_type": "code",
   "execution_count": 20,
   "metadata": {},
   "outputs": [],
   "source": [
    "collection.add(\n",
    "    documents=subset_news[DOCUMENT].tolist(),\n",
    "    metadatas=[{TOPIC: topic} for topic in subset_news[TOPIC].tolist()],\n",
    "    ids=[f\"id{x}\" for x in range(MAX_NEWS)],\n",
    ")"
   ]
  },
  {
   "cell_type": "code",
   "execution_count": 21,
   "metadata": {},
   "outputs": [
    {
     "name": "stdout",
     "output_type": "stream",
     "text": [
      "{'ids': [['id173', 'id829', 'id117', 'id535', 'id141', 'id218', 'id390', 'id273', 'id56', 'id900']], 'distances': [[0.8593594431877136, 1.0294400453567505, 1.0793331861495972, 1.093001127243042, 1.1329679489135742, 1.2130440473556519, 1.214331865310669, 1.216414213180542, 1.2220635414123535, 1.2754170894622803]], 'metadatas': [[{'topic': 'TECHNOLOGY'}, {'topic': 'TECHNOLOGY'}, {'topic': 'TECHNOLOGY'}, {'topic': 'TECHNOLOGY'}, {'topic': 'TECHNOLOGY'}, {'topic': 'TECHNOLOGY'}, {'topic': 'TECHNOLOGY'}, {'topic': 'TECHNOLOGY'}, {'topic': 'TECHNOLOGY'}, {'topic': 'TECHNOLOGY'}]], 'embeddings': None, 'documents': [['The Legendary Toshiba is Officially Done With Making Laptops', '3 gaming laptop deals you can’t afford to miss today', 'Lenovo and HP control half of the global laptop market', 'Asus ROG Zephyrus G14 gaming laptop announced in India', 'Acer Swift 3 featuring a 10th-generation Intel Ice Lake CPU, 2K screen, and more launched in India for INR 64999 (US$865)', \"Apple's Next MacBook Could Be the Cheapest in Company's History\", \"Features of Huawei's Desktop Computer Revealed\", 'Redmi to launch its first gaming laptop on August 14: Here are all the details', 'Toshiba shuts the lid on laptops after 35 years', 'This is the cheapest Windows PC by a mile and it even has a spare SSD slot']], 'uris': None, 'data': None}\n"
     ]
    }
   ],
   "source": [
    "results = collection.query(query_texts=[\"laptop\"], n_results=10 )\n",
    "print(results)"
   ]
  },
  {
   "cell_type": "markdown",
   "metadata": {},
   "source": [
    "## Vector MAP"
   ]
  },
  {
   "cell_type": "code",
   "execution_count": 22,
   "metadata": {},
   "outputs": [],
   "source": [
    "import matplotlib.pyplot as plt\n",
    "from sklearn.decomposition import PCA"
   ]
  },
  {
   "cell_type": "code",
   "execution_count": 23,
   "metadata": {},
   "outputs": [],
   "source": [
    "getado = collection.get(ids=\"id141\",include=[\"documents\", \"embeddings\"])\n"
   ]
  },
  {
   "cell_type": "code",
   "execution_count": 25,
   "metadata": {},
   "outputs": [
    {
     "data": {
      "text/plain": [
       "['Acer Swift 3 featuring a 10th-generation Intel Ice Lake CPU, 2K screen, and more launched in India for INR 64999 (US$865)']"
      ]
     },
     "execution_count": 25,
     "metadata": {},
     "output_type": "execute_result"
    }
   ],
   "source": [
    "getado\n",
    "getado[\"documents\"]"
   ]
  },
  {
   "cell_type": "code",
   "execution_count": 26,
   "metadata": {},
   "outputs": [
    {
     "data": {
      "text/plain": [
       "[[-0.080856092274189,\n",
       "  -0.049963705241680145,\n",
       "  -0.023777497932314873,\n",
       "  -0.011053608730435371,\n",
       "  0.026657693088054657,\n",
       "  -0.04479333758354187,\n",
       "  -0.02889661304652691,\n",
       "  0.02665606327354908,\n",
       "  0.001439746585674584,\n",
       "  -0.016407813876867294,\n",
       "  0.0653492659330368,\n",
       "  -0.06901992857456207,\n",
       "  -0.05748080089688301,\n",
       "  0.010111603885889053,\n",
       "  0.05043034628033638,\n",
       "  -0.0020577639807015657,\n",
       "  0.07256408035755157,\n",
       "  -0.124373659491539,\n",
       "  0.010659422725439072,\n",
       "  -0.10942044109106064,\n",
       "  -0.011432396247982979,\n",
       "  -0.01037602312862873,\n",
       "  -0.020610831677913666,\n",
       "  -0.024394067004323006,\n",
       "  0.07828475534915924,\n",
       "  0.005820578429847956,\n",
       "  0.023317743092775345,\n",
       "  -0.08243827521800995,\n",
       "  -0.027265075594186783,\n",
       "  0.004667513072490692,\n",
       "  0.0043401713483035564,\n",
       "  0.03252802789211273,\n",
       "  -0.02603098191320896,\n",
       "  0.07963903248310089,\n",
       "  0.0421820804476738,\n",
       "  -0.12119995057582855,\n",
       "  0.049070827662944794,\n",
       "  -0.07625847309827805,\n",
       "  0.04331619665026665,\n",
       "  -0.08360451459884644,\n",
       "  -0.07140403240919113,\n",
       "  -0.01879248395562172,\n",
       "  0.03604936972260475,\n",
       "  0.04284561052918434,\n",
       "  0.025760455057024956,\n",
       "  0.039725158363580704,\n",
       "  -0.007091290317475796,\n",
       "  0.035189975053071976,\n",
       "  0.027369113638997078,\n",
       "  0.009289849549531937,\n",
       "  -0.039161667227745056,\n",
       "  -0.03740129992365837,\n",
       "  -0.03369569033384323,\n",
       "  -0.06543105840682983,\n",
       "  0.01919756829738617,\n",
       "  -0.00908383447676897,\n",
       "  0.022507965564727783,\n",
       "  -0.043467555195093155,\n",
       "  0.03663363680243492,\n",
       "  0.09003792703151703,\n",
       "  0.037535011768341064,\n",
       "  -0.046986714005470276,\n",
       "  -0.0214504674077034,\n",
       "  0.049021799117326736,\n",
       "  0.0008767086546868086,\n",
       "  -0.0491013377904892,\n",
       "  0.0196517463773489,\n",
       "  -0.11427141726016998,\n",
       "  -0.004121285397559404,\n",
       "  -0.059363994747400284,\n",
       "  0.08288160711526871,\n",
       "  -0.015205097384750843,\n",
       "  0.05800361931324005,\n",
       "  -0.009099232964217663,\n",
       "  -0.06618720293045044,\n",
       "  -0.04995490983128548,\n",
       "  0.051422785967588425,\n",
       "  -0.030697576701641083,\n",
       "  -0.005996118765324354,\n",
       "  -0.017441166564822197,\n",
       "  -0.006716528907418251,\n",
       "  -0.026863785460591316,\n",
       "  0.009797829203307629,\n",
       "  0.0126980384811759,\n",
       "  -0.017240021377801895,\n",
       "  -0.04072215408086777,\n",
       "  0.02619200013577938,\n",
       "  -0.03633129596710205,\n",
       "  -0.005993362981826067,\n",
       "  -0.03835158422589302,\n",
       "  -0.0025671622715890408,\n",
       "  0.01781628653407097,\n",
       "  0.01563817448914051,\n",
       "  -0.0024252464063465595,\n",
       "  -0.046936117112636566,\n",
       "  0.014938590116798878,\n",
       "  0.057856060564517975,\n",
       "  -0.0426652766764164,\n",
       "  -0.05195881798863411,\n",
       "  0.07029524445533752,\n",
       "  0.017409685999155045,\n",
       "  0.010440297424793243,\n",
       "  0.06522300094366074,\n",
       "  -0.0005443905247375369,\n",
       "  -0.007273924071341753,\n",
       "  -0.01764904335141182,\n",
       "  -0.01343500055372715,\n",
       "  0.044877905398607254,\n",
       "  -0.040486834943294525,\n",
       "  0.05065854638814926,\n",
       "  -0.006964834872633219,\n",
       "  -0.03902634233236313,\n",
       "  -0.061165884137153625,\n",
       "  0.00961898360401392,\n",
       "  -0.019373128190636635,\n",
       "  -0.0725998654961586,\n",
       "  -0.05417890474200249,\n",
       "  -0.012206223793327808,\n",
       "  0.14574122428894043,\n",
       "  0.07729610800743103,\n",
       "  -0.034897755831480026,\n",
       "  0.02000734768807888,\n",
       "  -0.009718465618789196,\n",
       "  -0.0023303222842514515,\n",
       "  -0.0887768566608429,\n",
       "  0.007430662401020527,\n",
       "  -0.02245386876165867,\n",
       "  2.9391669528746844e-33,\n",
       "  -0.032260339707136154,\n",
       "  0.026466941460967064,\n",
       "  -0.06441567838191986,\n",
       "  -0.10495100915431976,\n",
       "  0.007915503345429897,\n",
       "  -0.05624104291200638,\n",
       "  0.060064900666475296,\n",
       "  0.0203566737473011,\n",
       "  0.008408079855144024,\n",
       "  0.003942808602005243,\n",
       "  -0.07579407095909119,\n",
       "  -0.05928371846675873,\n",
       "  -0.07090272009372711,\n",
       "  0.04760292172431946,\n",
       "  0.12866827845573425,\n",
       "  -0.09145345538854599,\n",
       "  -0.06453357636928558,\n",
       "  -0.022725839167833328,\n",
       "  -0.007938710041344166,\n",
       "  0.08817120641469955,\n",
       "  0.030397843569517136,\n",
       "  -0.08102215081453323,\n",
       "  -0.0047113532200455666,\n",
       "  0.008305789902806282,\n",
       "  -0.008205695077776909,\n",
       "  0.04484102129936218,\n",
       "  0.003640822833403945,\n",
       "  -0.01538055669516325,\n",
       "  0.06941365450620651,\n",
       "  0.02624167874455452,\n",
       "  0.0421229712665081,\n",
       "  -0.022600192576646805,\n",
       "  -0.004685673397034407,\n",
       "  -0.08609002083539963,\n",
       "  -0.0017022185493260622,\n",
       "  -0.03647527098655701,\n",
       "  0.03104809857904911,\n",
       "  -0.07396794855594635,\n",
       "  0.0006451710360124707,\n",
       "  0.05768986791372299,\n",
       "  -0.03433111310005188,\n",
       "  0.10101553797721863,\n",
       "  -0.07978132367134094,\n",
       "  -0.017709655687212944,\n",
       "  0.03582654893398285,\n",
       "  0.07763750106096268,\n",
       "  0.0071943774819374084,\n",
       "  0.05085880309343338,\n",
       "  0.031669341027736664,\n",
       "  -0.05025407671928406,\n",
       "  -0.11920307576656342,\n",
       "  -0.0021297431085258722,\n",
       "  -0.010739380493760109,\n",
       "  -0.04825349524617195,\n",
       "  0.051934391260147095,\n",
       "  -0.003345833159983158,\n",
       "  0.04570862278342247,\n",
       "  -0.006319802720099688,\n",
       "  0.13073936104774475,\n",
       "  0.05694258213043213,\n",
       "  -0.10317552834749222,\n",
       "  -0.021950311958789825,\n",
       "  -0.051250848919153214,\n",
       "  -0.0066707381047308445,\n",
       "  -0.04244103655219078,\n",
       "  0.07283089309930801,\n",
       "  0.08295753598213196,\n",
       "  -0.014510496519505978,\n",
       "  -0.050436656922101974,\n",
       "  -0.006399689242243767,\n",
       "  -0.05111796408891678,\n",
       "  -0.060900330543518066,\n",
       "  0.12017732113599777,\n",
       "  -0.007007995154708624,\n",
       "  -0.018361011520028114,\n",
       "  0.05737387388944626,\n",
       "  -0.06952650099992752,\n",
       "  -0.0329073891043663,\n",
       "  -0.0460195317864418,\n",
       "  -0.040264252573251724,\n",
       "  -0.039742033928632736,\n",
       "  0.04068471118807793,\n",
       "  0.0641421228647232,\n",
       "  0.08900656551122665,\n",
       "  -0.0006039433646947145,\n",
       "  0.06864350289106369,\n",
       "  -0.04542216286063194,\n",
       "  -0.012834928929805756,\n",
       "  0.014704249799251556,\n",
       "  0.08229123800992966,\n",
       "  -0.011864704079926014,\n",
       "  -0.007569525390863419,\n",
       "  0.029478946700692177,\n",
       "  -0.017556918784976006,\n",
       "  0.030267802998423576,\n",
       "  -3.4444798318695305e-33,\n",
       "  0.013093588873744011,\n",
       "  -0.05642778053879738,\n",
       "  -0.053934045135974884,\n",
       "  0.020105475559830666,\n",
       "  0.00218633352778852,\n",
       "  0.02147437259554863,\n",
       "  -0.016751889139413834,\n",
       "  0.11519584059715271,\n",
       "  0.009137540124356747,\n",
       "  0.0027902252040803432,\n",
       "  -0.028134971857070923,\n",
       "  0.08885100483894348,\n",
       "  0.07289770990610123,\n",
       "  0.029725486412644386,\n",
       "  0.033138323575258255,\n",
       "  -0.03830660134553909,\n",
       "  -0.015428626909852028,\n",
       "  -0.02588716149330139,\n",
       "  0.02991277351975441,\n",
       "  0.02146500162780285,\n",
       "  0.055984679609537125,\n",
       "  0.024117352440953255,\n",
       "  0.01360230054706335,\n",
       "  0.001853872206993401,\n",
       "  0.04671241343021393,\n",
       "  0.019653145223855972,\n",
       "  -0.061102479696273804,\n",
       "  0.006502066273242235,\n",
       "  0.04413033276796341,\n",
       "  -0.030408674851059914,\n",
       "  0.0033922067377716303,\n",
       "  -0.07827480882406235,\n",
       "  0.08200997114181519,\n",
       "  0.02194579690694809,\n",
       "  -0.042142778635025024,\n",
       "  -0.011046947911381721,\n",
       "  0.1122175008058548,\n",
       "  -0.03547650948166847,\n",
       "  -0.020349232479929924,\n",
       "  0.058639734983444214,\n",
       "  0.06194823607802391,\n",
       "  0.0041630202904343605,\n",
       "  0.025604253634810448,\n",
       "  0.07054831832647324,\n",
       "  0.026611290872097015,\n",
       "  0.039018671959638596,\n",
       "  -0.0028351102955639362,\n",
       "  -0.013862944208085537,\n",
       "  -0.03907373920083046,\n",
       "  -0.10136906057596207,\n",
       "  0.015272984281182289,\n",
       "  -0.06360489875078201,\n",
       "  0.00942913442850113,\n",
       "  -0.03778135031461716,\n",
       "  -0.07231792062520981,\n",
       "  -0.055983804166316986,\n",
       "  0.014629634097218513,\n",
       "  0.006302493624389172,\n",
       "  0.036601901054382324,\n",
       "  -0.07091112434864044,\n",
       "  0.03455740958452225,\n",
       "  0.021303299814462662,\n",
       "  0.018934432417154312,\n",
       "  0.019313128665089607,\n",
       "  0.007075125351548195,\n",
       "  0.01862226612865925,\n",
       "  0.050892237573862076,\n",
       "  0.033372242003679276,\n",
       "  -0.008652807213366032,\n",
       "  -0.02381417155265808,\n",
       "  -0.057651080191135406,\n",
       "  -0.10482975840568542,\n",
       "  0.013372022658586502,\n",
       "  -0.01933068037033081,\n",
       "  -0.01636396534740925,\n",
       "  0.043135885149240494,\n",
       "  -0.019315388053655624,\n",
       "  0.04287665709853172,\n",
       "  0.0722862109541893,\n",
       "  -0.00422928761690855,\n",
       "  0.025138597935438156,\n",
       "  0.07576542347669601,\n",
       "  0.03338634595274925,\n",
       "  0.022974111139774323,\n",
       "  0.07685323059558868,\n",
       "  -0.052259355783462524,\n",
       "  0.04328935593366623,\n",
       "  -0.012385092675685883,\n",
       "  -0.0365903340280056,\n",
       "  -0.01277448795735836,\n",
       "  -0.04613626375794411,\n",
       "  0.051983073353767395,\n",
       "  -0.06112853065133095,\n",
       "  -0.0003355972876306623,\n",
       "  -0.006177392788231373,\n",
       "  -2.835624712815843e-08,\n",
       "  0.06613793969154358,\n",
       "  0.011798045597970486,\n",
       "  0.03711370751261711,\n",
       "  0.046967171132564545,\n",
       "  0.04303533583879471,\n",
       "  -0.09251103550195694,\n",
       "  0.04613521695137024,\n",
       "  0.08055241405963898,\n",
       "  0.10685130953788757,\n",
       "  -0.007414963562041521,\n",
       "  -0.04132033884525299,\n",
       "  -0.0830371305346489,\n",
       "  -0.01820340007543564,\n",
       "  0.013738775625824928,\n",
       "  0.04395816847681999,\n",
       "  0.03730737417936325,\n",
       "  0.033157795667648315,\n",
       "  0.0881715640425682,\n",
       "  0.00198806612752378,\n",
       "  -0.07271487265825272,\n",
       "  0.023060999810695648,\n",
       "  0.04958247020840645,\n",
       "  0.09864992648363113,\n",
       "  -0.09664388746023178,\n",
       "  -0.038994189351797104,\n",
       "  0.04047476127743721,\n",
       "  -0.05303855612874031,\n",
       "  0.030482789501547813,\n",
       "  0.06002916023135185,\n",
       "  0.010914810001850128,\n",
       "  -0.10208377242088318,\n",
       "  0.03962487727403641,\n",
       "  0.03992469236254692,\n",
       "  -0.08412324637174606,\n",
       "  0.09101277589797974,\n",
       "  -0.06123005226254463,\n",
       "  -0.037172503769397736,\n",
       "  -0.019029755145311356,\n",
       "  0.0963117778301239,\n",
       "  -0.024584688246250153,\n",
       "  -0.01075119711458683,\n",
       "  0.0013019827893003821,\n",
       "  -0.07538685202598572,\n",
       "  -0.01894020475447178,\n",
       "  0.05480125918984413,\n",
       "  0.0030687078833580017,\n",
       "  -0.10229133069515228,\n",
       "  -0.10274931788444519,\n",
       "  0.0010229615727439523,\n",
       "  0.038387786597013474,\n",
       "  -0.03387368842959404,\n",
       "  -0.006812278646975756,\n",
       "  -0.028700850903987885,\n",
       "  0.061818525195121765,\n",
       "  0.01225935760885477,\n",
       "  0.025608742609620094,\n",
       "  -0.03962227329611778,\n",
       "  -0.0630202665925026,\n",
       "  -0.10198359191417694,\n",
       "  0.09703316539525986,\n",
       "  0.12165303528308868,\n",
       "  -0.10480320453643799,\n",
       "  -0.047979313880205154,\n",
       "  0.07281225174665451]]"
      ]
     },
     "execution_count": 26,
     "metadata": {},
     "output_type": "execute_result"
    }
   ],
   "source": [
    "word_vectors = getado[\"embeddings\"]\n",
    "word_list = getado[\"documents\"]\n",
    "word_vectors"
   ]
  },
  {
   "cell_type": "markdown",
   "metadata": {},
   "source": [
    "Once we have our information inside the Database we can query It, and ask for data that matches our needs. The search is done inside the content of the document, and it dosn't look for the exact word, or phrase. The results will be based on the similarity between the search terms and the content of documents.\n",
    "\n",
    "The metadata is not used in the search, but they can be utilized for filtering or refining the results after the initial search."
   ]
  },
  {
   "cell_type": "markdown",
   "metadata": {},
   "source": [
    "# Loading the model and creating the prompt\n",
    "TRANSFORMERS!!\n",
    "Time to use the library **transformers**, the most famous library from [hugging face](https://huggingface.co/) for working with language models.\n",
    "\n",
    "We are importing:\n",
    "* **Autotokenizer**: It is a utility class for tokenizing text inputs that are compatible with various pre-trained language models.\n",
    "* **AutoModelForCasualLLM**: it provides an interface to pre-trained language models specifically designed for language generation tasks using causal language modeling (e.g., GPT models), or the model used in this notebook ***databricks/dolly-v2-3b***.\n",
    "* **pipeline**: provides a simple interface for performing various natural language processing (NLP) tasks, such as text generation (our case) or text classification.\n",
    "\n",
    "The model selected is [dolly-v2-3b](https://huggingface.co/databricks/dolly-v2-3b), the smallest Dolly model. It have 3billion paramaters, more than enough for our sample, and works much better than GPT2.\n",
    "\n",
    "Please, feel free to test [different Models](https://huggingface.co/models?pipeline_tag=text-generation&sort=trending), you need to search for NLP models trained for text-generation. My recomendation is choose \"small\" models, or we will run out of memory in kaggle.  "
   ]
  },
  {
   "cell_type": "code",
   "execution_count": 27,
   "metadata": {},
   "outputs": [
    {
     "name": "stderr",
     "output_type": "stream",
     "text": [
      "Special tokens have been added in the vocabulary, make sure the associated word embeddings are fine-tuned or trained.\n"
     ]
    }
   ],
   "source": [
    "from transformers import AutoTokenizer, AutoModelForCausalLM, pipeline\n",
    "\n",
    "model_id = \"databricks/dolly-v2-3b\"\n",
    "tokenizer = AutoTokenizer.from_pretrained(model_id)\n",
    "lm_model = AutoModelForCausalLM.from_pretrained(model_id)"
   ]
  },
  {
   "cell_type": "markdown",
   "metadata": {},
   "source": [
    "The next step is to initialize the pipeline using the objects created above.\n",
    "\n",
    "The model's response is limited to 256 tokens, for this project I'm not interested in a longer response, but it can easily be extended to whatever length you want.\n",
    "\n",
    "Setting ***device_map*** to ***auto*** we are instructing the model to automaticaly select the most appropiate device: CPU or GPU for processing the text generation.  "
   ]
  },
  {
   "cell_type": "code",
   "execution_count": 28,
   "metadata": {},
   "outputs": [],
   "source": [
    "pipe = pipeline(\n",
    "    \"text-generation\",\n",
    "    model=lm_model,\n",
    "    tokenizer=tokenizer,\n",
    "    max_new_tokens=256,\n",
    "    device_map=\"auto\",\n",
    ")"
   ]
  },
  {
   "cell_type": "markdown",
   "metadata": {},
   "source": [
    "## Creating the extended prompt\n",
    "To create the prompt we use the result from query the Vector Database  and the sentence introduced by the user.\n",
    "\n",
    "The prompt have two parts, the **relevant context** that is the information recovered from the database and the **user's question**.\n",
    "\n",
    "We only need to join the two parts together to create the prompt that we are going to send to the model.\n",
    "\n",
    "You can limit the lenght of the context passed to the model, because we can get some Memory problems with one of the datasets that contains a realy large text in the document part."
   ]
  },
  {
   "cell_type": "code",
   "execution_count": 29,
   "metadata": {},
   "outputs": [
    {
     "data": {
      "text/plain": [
       "\"Relevant context: #The Legendary Toshiba is Officially Done With Making Laptops #3 gaming laptop deals you can’t afford to miss today #Lenovo and HP control half of the global laptop market #Asus ROG Zephyrus G14 gaming laptop announced in India #Acer Swift 3 featuring a 10th-generation Intel Ice Lake CPU, 2K screen, and more launched in India for INR 64999 (US$865) #Apple's Next MacBook Could Be the Cheapest in Company's History #Features of Huawei's Desktop Computer Revealed #Redmi to launch its first gaming laptop on August 14: Here are all the details #Toshiba shuts the lid on laptops after 35 years #This is the cheapest Windows PC by a mile and it even has a spare SSD slot\\n\\n The user's question: Can I buy a Toshiba laptop?\""
      ]
     },
     "execution_count": 29,
     "metadata": {},
     "output_type": "execute_result"
    }
   ],
   "source": [
    "question = \"Can I buy a Toshiba laptop?\"\n",
    "context = \" \".join([f\"#{str(i)}\" for i in results[\"documents\"][0]])\n",
    "#context = context[0:5120]\n",
    "prompt_template = f\"Relevant context: {context}\\n\\n The user's question: {question}\"\n",
    "prompt_template"
   ]
  },
  {
   "cell_type": "code",
   "execution_count": 31,
   "metadata": {},
   "outputs": [
    {
     "data": {
      "text/plain": [
       "\"#The Legendary Toshiba is Officially Done With Making Laptops #3 gaming laptop deals you can’t afford to miss today #Lenovo and HP control half of the global laptop market #Asus ROG Zephyrus G14 gaming laptop announced in India #Acer Swift 3 featuring a 10th-generation Intel Ice Lake CPU, 2K screen, and more launched in India for INR 64999 (US$865) #Apple's Next MacBook Could Be the Cheapest in Company's History #Features of Huawei's Desktop Computer Revealed #Redmi to launch its first gaming laptop on August 14: Here are all the details #Toshiba shuts the lid on laptops after 35 years #This is the cheapest Windows PC by a mile and it even has a spare SSD slot\""
      ]
     },
     "execution_count": 31,
     "metadata": {},
     "output_type": "execute_result"
    }
   ],
   "source": [
    "context"
   ]
  },
  {
   "cell_type": "code",
   "execution_count": 30,
   "metadata": {},
   "outputs": [
    {
     "name": "stdout",
     "output_type": "stream",
     "text": [
      "Relevant context: #The Legendary Toshiba is Officially Done With Making Laptops #3 gaming laptop deals you can’t afford to miss today #Lenovo and HP control half of the global laptop market #Asus ROG Zephyrus G14 gaming laptop announced in India #Acer Swift 3 featuring a 10th-generation Intel Ice Lake CPU, 2K screen, and more launched in India for INR 64999 (US$865) #Apple's Next MacBook Could Be the Cheapest in Company's History #Features of Huawei's Desktop Computer Revealed #Redmi to launch its first gaming laptop on August 14: Here are all the details #Toshiba shuts the lid on laptops after 35 years #This is the cheapest Windows PC by a mile and it even has a spare SSD slot\n",
      "\n",
      " The user's question: Can I buy a Toshiba laptop?\n",
      "The answer: No, Toshiba has decided to stop manufacturing laptops.\n",
      "\n",
      "\n"
     ]
    }
   ],
   "source": [
    "lm_response = pipe(prompt_template)\n",
    "print(lm_response[0][\"generated_text\"])"
   ]
  }
 ],
 "metadata": {
  "kernelspec": {
   "display_name": ".venv",
   "language": "python",
   "name": "python3"
  },
  "language_info": {
   "codemirror_mode": {
    "name": "ipython",
    "version": 3
   },
   "file_extension": ".py",
   "mimetype": "text/x-python",
   "name": "python",
   "nbconvert_exporter": "python",
   "pygments_lexer": "ipython3",
   "version": "3.11.8"
  }
 },
 "nbformat": 4,
 "nbformat_minor": 2
}
