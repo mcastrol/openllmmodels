{
 "cells": [
  {
   "cell_type": "markdown",
   "metadata": {},
   "source": [
    "### Reading parameters\n",
    "1) Complete a .env file with the model, endpoint and api key that you get from MAAS: https://maas.apps.prod.rhoai.rh-aiservices-bu.com/admin/applications/5585?service_id=10\n",
    "\n",
    "For instance:\n",
    "MAAS_GRANITE_38=\"{\\\"model\\\": \\\"granite-3-8b-instruct\\\", \\\"apikey\\\": \\\"xxxxx\\\", \\\"endpoint\\\": \\\"https://granite-3-8b-instruct-maas-apicast-production.apps.prod.rhoai.rh-aiservices-bu.com:443\\\"}\"\n",
    "\n",
    "\n",
    "\n"
   ]
  },
  {
   "cell_type": "code",
   "execution_count": 15,
   "metadata": {},
   "outputs": [],
   "source": [
    "import requests\n",
    "import urllib3\n",
    "import numpy as np\n",
    "import json\n",
    "from dotenv import load_dotenv\n",
    "import json\n"
   ]
  },
  {
   "cell_type": "code",
   "execution_count": 16,
   "metadata": {},
   "outputs": [],
   "source": [
    "def read_parameter_dict(dict_name):\n",
    "    load_dotenv()\n",
    "    return(json.loads(os.getenv(dict_name)))\n"
   ]
  },
  {
   "cell_type": "code",
   "execution_count": 46,
   "metadata": {},
   "outputs": [],
   "source": [
    "def request_inference(model_name,endpoint, apikey, prompt,max_token=15, temperature=0):\n",
    "    # print(f\"Model {model_name} Endpoint {endpoint} {prompt}\")\n",
    "    completion = requests.post(\n",
    "    url=endpoint+'/v1/completions',\n",
    "    json={\n",
    "      \"model\": model_name,\n",
    "      \"prompt\": prompt,\n",
    "      \"max_tokens\": max_token,\n",
    "      \"temperature\": temperature\n",
    "    },\n",
    "    headers={'Authorization': 'Bearer '+apikey}).json()\n",
    "    return completion"
   ]
  },
  {
   "cell_type": "code",
   "execution_count": 66,
   "metadata": {},
   "outputs": [],
   "source": [
    "from langchain_community.llms import VLLMOpenAI\n",
    "def langchain_inference(model,endpoint, apikey, prompt):\n",
    "    llm = VLLMOpenAI(\n",
    "        openai_api_key=apikey,\n",
    "        openai_api_base=endpoint+\"/v1\",\n",
    "        model_name=model,\n",
    "        model_kwargs={\"stop\": [\".\"]},\n",
    "    )\n",
    "    return(llm.invoke(prompt))"
   ]
  },
  {
   "cell_type": "markdown",
   "metadata": {},
   "source": [
    "## Testing inference granite 38"
   ]
  },
  {
   "cell_type": "code",
   "execution_count": 29,
   "metadata": {},
   "outputs": [
    {
     "data": {
      "text/plain": [
       "{'model': 'granite-3-8b-instruct',\n",
       " 'apikey': '157356977debf113cb5275dccf0b3f75',\n",
       " 'endpoint': 'https://granite-3-8b-instruct-maas-apicast-production.apps.prod.rhoai.rh-aiservices-bu.com:443'}"
      ]
     },
     "execution_count": 29,
     "metadata": {},
     "output_type": "execute_result"
    }
   ],
   "source": [
    "granite_38=read_parameter_dict(\"MAAS_GRANITE_38\")\n",
    "granite_38"
   ]
  },
  {
   "cell_type": "code",
   "execution_count": 48,
   "metadata": {},
   "outputs": [
    {
     "data": {
      "text/plain": [
       "' una ciudad que se caracteriza por su diversidad cultural, su vida nocturna vibrante y su impresionante arquitectura. Es una ciudad que ofrece una gran variedad de activ'"
      ]
     },
     "execution_count": 48,
     "metadata": {},
     "output_type": "execute_result"
    }
   ],
   "source": [
    "response=request_inference(granite_38['model'],granite_38['endpoint'],granite_38['apikey'], \"San Francisco es\",50)\n",
    "response['choices'][0]['text']"
   ]
  },
  {
   "cell_type": "code",
   "execution_count": 67,
   "metadata": {},
   "outputs": [
    {
     "data": {
      "text/plain": [
       "' una de las ciudades más emprendedoras de Europa y una de las mejores del mundo para invertir'"
      ]
     },
     "execution_count": 67,
     "metadata": {},
     "output_type": "execute_result"
    }
   ],
   "source": [
    "response=langchain_inference(granite_38['model'],granite_38['endpoint'],granite_38['apikey'], \"Roma es\")\n",
    "response"
   ]
  },
  {
   "cell_type": "markdown",
   "metadata": {},
   "source": [
    "### Testing DeepSeek-R1"
   ]
  },
  {
   "cell_type": "code",
   "execution_count": null,
   "metadata": {},
   "outputs": [],
   "source": [
    "granite_38=read_parameter_dict(\"MAAS_GRANITE_38\")\n",
    "granite_38"
   ]
  }
 ],
 "metadata": {
  "kernelspec": {
   "display_name": ".venv",
   "language": "python",
   "name": "python3"
  },
  "language_info": {
   "codemirror_mode": {
    "name": "ipython",
    "version": 3
   },
   "file_extension": ".py",
   "mimetype": "text/x-python",
   "name": "python",
   "nbconvert_exporter": "python",
   "pygments_lexer": "ipython3",
   "version": "3.11.8"
  }
 },
 "nbformat": 4,
 "nbformat_minor": 2
}
