{
 "cells": [
  {
   "cell_type": "markdown",
   "metadata": {},
   "source": [
    "### Reading parameters\n",
    "1) Complete a .env file with the model, endpoint and api key that you get from MAAS: https://maas.apps.prod.rhoai.rh-aiservices-bu.com/admin/applications/5585?service_id=10\n",
    "\n",
    "For instance:\n",
    "MAAS_GRANITE_38=\"{\\\"model\\\": \\\"granite-3-8b-instruct\\\", \\\"apikey\\\": \\\"xxxxx\\\", \\\"endpoint\\\": \\\"https://granite-3-8b-instruct-maas-apicast-production.apps.prod.rhoai.rh-aiservices-bu.com:443\\\"}\"\n",
    "\n",
    "\n",
    "\n"
   ]
  },
  {
   "cell_type": "code",
   "execution_count": 15,
   "metadata": {},
   "outputs": [],
   "source": [
    "import requests\n",
    "import urllib3\n",
    "import numpy as np\n",
    "import json\n",
    "from dotenv import load_dotenv\n",
    "import json\n"
   ]
  },
  {
   "cell_type": "code",
   "execution_count": 16,
   "metadata": {},
   "outputs": [],
   "source": [
    "def read_parameter_dict(dict_name):\n",
    "    load_dotenv()\n",
    "    return(json.loads(os.getenv(dict_name)))\n"
   ]
  },
  {
   "cell_type": "code",
   "execution_count": 26,
   "metadata": {},
   "outputs": [],
   "source": [
    "def inference(model_name,endpoint, apikey, prompt,max_token=15, temperature=0):\n",
    "    print(f\"Model {model_name} Endpoint {endpoint} {apikey} {prompt}\")\n",
    "    completion = requests.post(\n",
    "    url=endpoint+'/v1/completions',\n",
    "    json={\n",
    "      \"model\": model_name,\n",
    "      \"prompt\": prompt,\n",
    "      \"max_tokens\": max_token,\n",
    "      \"temperature\": temperature\n",
    "    },\n",
    "    headers={'Authorization': 'Bearer '+apikey}).json()\n",
    "    return completion"
   ]
  },
  {
   "cell_type": "code",
   "execution_count": 24,
   "metadata": {},
   "outputs": [
    {
     "data": {
      "text/plain": [
       "{'model': 'granite-3-8b-instruct',\n",
       " 'apikey': '157356977debf113cb5275dccf0b3f75',\n",
       " 'endpoint': 'https://granite-3-8b-instruct-maas-apicast-production.apps.prod.rhoai.rh-aiservices-bu.com:443'}"
      ]
     },
     "execution_count": 24,
     "metadata": {},
     "output_type": "execute_result"
    }
   ],
   "source": [
    "granite_38=read_parameter_dict(\"MAAS_GRANITE_38\")\n",
    "granite_38"
   ]
  },
  {
   "cell_type": "code",
   "execution_count": 25,
   "metadata": {},
   "outputs": [
    {
     "name": "stdout",
     "output_type": "stream",
     "text": [
      "Model {model_name} Endpoint {endpoint} {apikey} {prompt}\n"
     ]
    }
   ],
   "source": [
    "response=inference(granite_38['model'],granite_38['endpoint'],granite_38['apikey'], \"San Francisco es\")"
   ]
  },
  {
   "cell_type": "code",
   "execution_count": 27,
   "metadata": {},
   "outputs": [
    {
     "data": {
      "text/plain": [
       "{'id': 'cmpl-8d5dd94d6c9449c181be64f446baca8f',\n",
       " 'object': 'text_completion',\n",
       " 'created': 1738336941,\n",
       " 'model': 'granite-3-8b-instruct',\n",
       " 'choices': [{'index': 0,\n",
       "   'text': ' una ciudad que se caracteriza por su diversidad cultural, su',\n",
       "   'logprobs': None,\n",
       "   'finish_reason': 'length',\n",
       "   'stop_reason': None,\n",
       "   'prompt_logprobs': None}],\n",
       " 'usage': {'prompt_tokens': 3,\n",
       "  'total_tokens': 18,\n",
       "  'completion_tokens': 15,\n",
       "  'prompt_tokens_details': None}}"
      ]
     },
     "execution_count": 27,
     "metadata": {},
     "output_type": "execute_result"
    }
   ],
   "source": [
    "response"
   ]
  },
  {
   "cell_type": "code",
   "execution_count": 3,
   "metadata": {},
   "outputs": [
    {
     "name": "stdout",
     "output_type": "stream",
     "text": [
      "{'model': 'granite-3-8b-instruct', 'apikey': '157356977debf113cb5275dccf0b3f75', 'endpoint': 'https://granite-3-8b-instruct-maas-apicast-production.apps.prod.rhoai.rh-aiservices-bu.com:443'}\n"
     ]
    }
   ],
   "source": [
    "\n",
    "# Load .env file\n",
    "\n",
    "# Retrieve and parse the dictionary\n",
    "granite_38 = json.loads(os.getenv(\"MAAS_GRANITE_38\"))\n",
    "print(granite_38)  # Output: {'key1': 'value1', 'key2': 'value2'"
   ]
  },
  {
   "cell_type": "code",
   "execution_count": 6,
   "metadata": {},
   "outputs": [
    {
     "data": {
      "text/plain": [
       "'https://granite-3-8b-instruct-maas-apicast-production.apps.prod.rhoai.rh-aiservices-bu.com:443'"
      ]
     },
     "execution_count": 6,
     "metadata": {},
     "output_type": "execute_result"
    }
   ],
   "source": [
    "granite_38['endpoint']"
   ]
  },
  {
   "cell_type": "markdown",
   "metadata": {},
   "source": [
    "completion = requests.post(\n",
    "    url=granite_38['endpoint']+'/v1/completions',\n",
    "    json={\n",
    "      \"model\": granite_38['model'],\n",
    "      \"prompt\": \"San Francisco is a\",\n",
    "      \"max_tokens\": 15,\n",
    "      \"temperature\": 0\n",
    "    },\n",
    "    headers={'Authorization': 'Bearer '+granite_38['apikey']}\n",
    ").json()"
   ]
  },
  {
   "cell_type": "code",
   "execution_count": 21,
   "metadata": {},
   "outputs": [],
   "source": [
    "import requests\n",
    "completion = requests.post(\n",
    "    url=granite_38['endpoint']+'/v1/completions',\n",
    "    json={\n",
    "      \"model\": granite_38['model'],\n",
    "      \"prompt\": \"San Francisco is a\",\n",
    "      \"max_tokens\": 15,\n",
    "      \"temperature\": 0\n",
    "    },\n",
    "    headers={'Authorization': 'Bearer '+granite_38['apikey']}\n",
    ").json()"
   ]
  },
  {
   "cell_type": "code",
   "execution_count": 22,
   "metadata": {},
   "outputs": [
    {
     "data": {
      "text/plain": [
       "{'id': 'cmpl-19999457584e489eb2253be83cfb9fb6',\n",
       " 'object': 'text_completion',\n",
       " 'created': 1738336816,\n",
       " 'model': 'granite-3-8b-instruct',\n",
       " 'choices': [{'index': 0,\n",
       "   'text': ' city that has always been known for its vibrant culture, diverse',\n",
       "   'logprobs': None,\n",
       "   'finish_reason': 'length',\n",
       "   'stop_reason': None,\n",
       "   'prompt_logprobs': None}],\n",
       " 'usage': {'prompt_tokens': 4,\n",
       "  'total_tokens': 19,\n",
       "  'completion_tokens': 15,\n",
       "  'prompt_tokens_details': None}}"
      ]
     },
     "execution_count": 22,
     "metadata": {},
     "output_type": "execute_result"
    }
   ],
   "source": [
    "completion"
   ]
  }
 ],
 "metadata": {
  "kernelspec": {
   "display_name": ".venv",
   "language": "python",
   "name": "python3"
  },
  "language_info": {
   "codemirror_mode": {
    "name": "ipython",
    "version": 3
   },
   "file_extension": ".py",
   "mimetype": "text/x-python",
   "name": "python",
   "nbconvert_exporter": "python",
   "pygments_lexer": "ipython3",
   "version": "3.11.8"
  }
 },
 "nbformat": 4,
 "nbformat_minor": 2
}
